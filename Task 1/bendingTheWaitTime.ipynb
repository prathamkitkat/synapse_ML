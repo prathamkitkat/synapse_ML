{
 "cells": [
  {
   "cell_type": "code",
   "execution_count": 1,
   "metadata": {},
   "outputs": [
    {
     "name": "stdout",
     "output_type": "stream",
     "text": [
      "3.25\n",
      "5.5\n",
      "12.0\n",
      "6.8\n"
     ]
    }
   ],
   "source": [
    "customers = [[5,2],[5,4],[10,3],[20,1]]\n",
    "def calcTime(customer):\n",
    "    avgTime = []\n",
    "    currentTime = 0\n",
    "    for c,w in customers:\n",
    "        #c is arrival and w is time required \n",
    "        if(c<=currentTime):\n",
    "            currentTime = currentTime + w \n",
    "        else:\n",
    "            currentTime = c + w\n",
    "        waitingTime = currentTime - c \n",
    "        avgTime.append(waitingTime)\n",
    "    return avgTime \n",
    "\n",
    "\n",
    "avgTime = calcTime(customers)\n",
    "\n",
    "def calcAvg(avgTime):\n",
    "    avg = sum(avgTime)\n",
    "    avg = avg/len(avgTime)\n",
    "    return avg\n",
    "\n",
    "print(calcAvg(avgTime))\n",
    "\n",
    "#some additional test cases\n",
    "\n",
    "customers = [[1, 3], [2, 5], [6, 2], [7, 3]]\n",
    "# wt1 is (4-1) = 3 , wt2 is (9-2) = 7 ,wt3 is (11-6) = 5 , wt4 is (14-7) = 7 , avg = (3+7+5+7)/4\n",
    "avgTime = calcTime(customers)\n",
    "print(calcAvg(avgTime))\n",
    "\n",
    "customers = [[0, 3], [1, 9], [2, 6], [4, 4]]\n",
    "#wt1 is (3-0) = 3 , wt2 is (12-1) = 11 , wt3 is (18-2) = 16 , wt4 is (22-4) = 18 , avg = (3+11+16+18)/4\n",
    "avgTime = calcTime(customers)\n",
    "print(calcAvg(avgTime))\n",
    "\n",
    "customers = [[1, 3], [2, 5], [5, 2], [6, 3], [8, 4]]\n",
    "#wt1 is (4-1) = 3 ,wt2 is (9-2) = 7 , wt3 is (11-5) = 6 , wt4 is (14-6) = 8,wt5 is (18-8) = 10 , avg = (3+7+6+8+10)/5 \n",
    "avgTime = calcTime(customers)\n",
    "print(calcAvg(avgTime))     \n"
   ]
  }
 ],
 "metadata": {
  "kernelspec": {
   "display_name": "Python 3",
   "language": "python",
   "name": "python3"
  },
  "language_info": {
   "codemirror_mode": {
    "name": "ipython",
    "version": 3
   },
   "file_extension": ".py",
   "mimetype": "text/x-python",
   "name": "python",
   "nbconvert_exporter": "python",
   "pygments_lexer": "ipython3",
   "version": "3.12.4"
  }
 },
 "nbformat": 4,
 "nbformat_minor": 2
}
