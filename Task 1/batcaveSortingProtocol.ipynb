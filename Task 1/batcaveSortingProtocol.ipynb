{
 "cells": [
  {
   "cell_type": "code",
   "execution_count": 1,
   "metadata": {},
   "outputs": [
    {
     "name": "stdout",
     "output_type": "stream",
     "text": [
      "[('Batarangs', 5, True), ('Batmobile Tires', 4, True), ('Explosive Batarangs', 3, True), ('Grapple Gun', 3, True), ('Tear Gas Grenades', 2, True), ('Night Vision Goggles', 1, True), ('Utility Belt', 1, True), ('Batclaw', 0, False), ('Batsignal', 0, False), ('Smoke Pellets', 0, False)]\n"
     ]
    }
   ],
   "source": [
    "#Task 1.2\n",
    "gadgets = [\n",
    "(\"Explosive Batarangs\", 3, True),\n",
    "(\"Batarangs\", 5, True),\n",
    "(\"Smoke Pellets\", 0, False),\n",
    "(\"Tear Gas Grenades\", 2, True),\n",
    "(\"Night Vision Goggles\", 1, True),\n",
    "(\"Batclaw\", 0, False),\n",
    "(\"Grapple Gun\", 3, True),\n",
    "(\"Batsignal\", 0, False),\n",
    "(\"Utility Belt\", 1, True),\n",
    "(\"Batmobile Tires\", 4, True)\n",
    "]\n",
    "gadgets.sort(key = lambda item : item[0])\n",
    "gadgets.sort(key = lambda item : item[1],reverse = True)\n",
    "gadgets.sort(key = lambda item :item[2],reverse = True)\n",
    "print(gadgets)"
   ]
  }
 ],
 "metadata": {
  "kernelspec": {
   "display_name": "Python 3",
   "language": "python",
   "name": "python3"
  },
  "language_info": {
   "codemirror_mode": {
    "name": "ipython",
    "version": 3
   },
   "file_extension": ".py",
   "mimetype": "text/x-python",
   "name": "python",
   "nbconvert_exporter": "python",
   "pygments_lexer": "ipython3",
   "version": "3.12.4"
  }
 },
 "nbformat": 4,
 "nbformat_minor": 2
}
