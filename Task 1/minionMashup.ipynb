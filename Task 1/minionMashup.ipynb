{
 "cells": [
  {
   "cell_type": "code",
   "execution_count": 1,
   "metadata": {},
   "outputs": [
    {
     "name": "stdout",
     "output_type": "stream",
     "text": [
      "{('Stuart', 'Edith'): 40.0, ('Kevin', 'Bob'): 38.18181818181819, ('Stuart', 'Bob'): 38.18181818181819, ('Bob', 'Edith'): 38.18181818181819, ('Kevin', 'Edith'): 30.0}\n"
     ]
    }
   ],
   "source": [
    "#Task 1.1 \n",
    "from itertools import combinations \n",
    "\n",
    "Kevin = {\"Halsey\", \"Taylor Swift\", \"Mitski\", \"Joji\", \n",
    "         \"Shawn Mendes\", \"Sabrina Carpenter\", \"Nicky Minaj\", \n",
    "         \"Conan Gray\", \"One Direction\", \"Justin Bieber\"}\n",
    "\n",
    "Stuart = {\"Kendrick Lamar\", \"Steve Lacy\", \"Tyler the Creator\", \n",
    "          \"Joji\", \"TheWeeknd\", \"Coldplay\", \"Kanye West\", \n",
    "          \"Travis Scott\", \"Frank Ocean\", \"Brent Faiyaz\"}\n",
    "\n",
    "Bob = {\"Conan Gray\", \"Joji\", \"Dove Cameron\", \"Mitski\", \n",
    "       \"Arctic Monkeys\", \"Steve Lacy\", \"Kendrick Lamar\", \n",
    "       \"Isabel LaRosa\", \"Shawn Mendes\", \"Coldplay\", \"Lauv\"}\n",
    "\n",
    "Edith = {\"Metallica\", \"Billie Eilish\", \"TheWeeknd\", \"Mitski\", \n",
    "         \"NF\", \"Conan Gray\", \"Kendrick Lamar\", \"Nicky Minaj\", \n",
    "         \"Kanye West\", \"Coldplay\"}\n",
    "\n",
    "dj_names = [\"Kevin\",\"Stuart\",\"Bob\",\"Edith\"]\n",
    "\n",
    "#key value pairs of artist names and their respective set value\n",
    "\n",
    "pairs = {\n",
    "    \"Kevin\" : Kevin,\n",
    "    \"Stuart\" : Stuart,\n",
    "    \"Bob\"  : Bob,\n",
    "    \"Edith\" : Edith,\n",
    "}\n",
    "\n",
    "artistCombinations = combinations(dj_names,2)\n",
    "\n",
    "Artists= {}#creating a blank dictionary to store the mashup score of artists(value) and pairs of artists(key)\n",
    "\n",
    "#function to calculate individual score of each artist\n",
    "def calculateScore(set1,set2):\n",
    "   matched = set1.intersection(set2)\n",
    "   return (len(matched)/len(set1))*100\n",
    "\n",
    "#item =  [('Kevin', 'Stuart'), ('Kevin', 'Bob'), ('Kevin', 'Edith'), ('Stuart', 'Bob'), ('Stuart', 'Edith'), ('Bob', 'Edith')]\n",
    "\n",
    "for item in list(artistCombinations) : \n",
    "    score1 = calculateScore(pairs.get(item[0]),pairs.get(item[1]))\n",
    "    score2 = calculateScore(pairs.get(item[1]),pairs.get(item[0]))\n",
    "    #calculating avg pair score\n",
    "    if(score1>=30 and score2>=30):\n",
    "        Artists[item] = (score1+score2)/2\n",
    "#now,sorting the dictionary values by popularity  \n",
    "sortedArtists = dict(sorted(Artists.items(),key = lambda item : item[1],reverse = True)) \n",
    "#item[1] as we want to sort on basis of   score (value) \n",
    "\n",
    "print(sortedArtists)  "
   ]
  }
 ],
 "metadata": {
  "kernelspec": {
   "display_name": "Python 3",
   "language": "python",
   "name": "python3"
  },
  "language_info": {
   "codemirror_mode": {
    "name": "ipython",
    "version": 3
   },
   "file_extension": ".py",
   "mimetype": "text/x-python",
   "name": "python",
   "nbconvert_exporter": "python",
   "pygments_lexer": "ipython3",
   "version": "3.12.4"
  }
 },
 "nbformat": 4,
 "nbformat_minor": 2
}
